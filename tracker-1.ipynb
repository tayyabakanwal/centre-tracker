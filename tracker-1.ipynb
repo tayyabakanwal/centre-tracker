{
 "cells": [
  {
   "cell_type": "code",
   "execution_count": 3,
   "metadata": {},
   "outputs": [],
   "source": [
    "import cv2\n",
    "\n",
    "# Initialize the tracker\n",
    "tracker = cv2.TrackerCSRT_create()  # You can also try cv2.TrackerKCF_create() for a different tracker\n",
    "\n",
    "# Open the webcam\n",
    "cap = cv2.VideoCapture(0)  # 0 is the default camera\n",
    "\n",
    "# Check if the webcam opened successfully\n",
    "if not cap.isOpened():\n",
    "    print(\"Error: Could not open webcam.\")\n",
    "    exit()\n",
    "\n",
    "# Read the first frame\n",
    "ret, frame = cap.read()\n",
    "if not ret:\n",
    "    print(\"Error: Could not read from webcam.\")\n",
    "    exit()\n",
    "\n",
    "# Select the bounding box on the first frame\n",
    "bbox = cv2.selectROI(\"Tracking\", frame, False)\n",
    "cv2.destroyWindow(\"Tracking\")\n",
    "\n",
    "# Initialize the tracker with the first frame and bounding box\n",
    "ret = tracker.init(frame, bbox)\n",
    "\n",
    "while True:\n",
    "    # Read a new frame\n",
    "    ret, frame = cap.read()\n",
    "    if not ret:\n",
    "        break\n",
    "\n",
    "    # Update the tracker\n",
    "    ret, bbox = tracker.update(frame)\n",
    "\n",
    "    # Draw center point of bounding box\n",
    "    if ret:\n",
    "        center_x = int(bbox[0] + bbox[2] / 2)\n",
    "        center_y = int(bbox[1] + bbox[3] / 2)\n",
    "        cv2.circle(frame, (center_x, center_y), 5, (255, 0, 0), -1)\n",
    "        cv2.putText(frame, f\"Center: ({center_x}, {center_y})\", (10, 50), cv2.FONT_HERSHEY_SIMPLEX, 0.75, (50, 170, 50), 2)\n",
    "    else:\n",
    "        # Tracking failure\n",
    "        cv2.putText(frame, \"Tracking failure detected\", (10, 50), cv2.FONT_HERSHEY_SIMPLEX, 0.75, (0, 0, 255), 2)\n",
    "\n",
    "    # Display result\n",
    "    cv2.imshow(\"Tracking\", frame)\n",
    "\n",
    "    # Exit if ESC pressed\n",
    "    k = cv2.waitKey(1) & 0xff\n",
    "    if k == 27:  # Esc key to stop\n",
    "        break\n",
    "\n",
    "cap.release()\n",
    "cv2.destroyAllWindows()"
   ]
  }
 ],
 "metadata": {
  "kernelspec": {
   "display_name": "Python 3",
   "language": "python",
   "name": "python3"
  },
  "language_info": {
   "codemirror_mode": {
    "name": "ipython",
    "version": 3
   },
   "file_extension": ".py",
   "mimetype": "text/x-python",
   "name": "python",
   "nbconvert_exporter": "python",
   "pygments_lexer": "ipython3",
   "version": "3.12.2"
  }
 },
 "nbformat": 4,
 "nbformat_minor": 2
}
